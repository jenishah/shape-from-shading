{
 "cells": [
  {
   "cell_type": "code",
   "execution_count": 1,
   "metadata": {
    "collapsed": true
   },
   "outputs": [],
   "source": [
    "import numpy as np"
   ]
  },
  {
   "cell_type": "code",
   "execution_count": 2,
   "metadata": {
    "collapsed": true
   },
   "outputs": [],
   "source": [
    "a = np.asarray([[1,1],[1,1.0001]])\n",
    "b1 = np.asarray([2,2.0001])\n",
    "b2 = np.asarray([2,2.0002])"
   ]
  },
  {
   "cell_type": "code",
   "execution_count": 3,
   "metadata": {
    "collapsed": true
   },
   "outputs": [],
   "source": [
    "def mysol(a,b):\n",
    "    return(np.dot(np.linalg.pinv(a),b))"
   ]
  },
  {
   "cell_type": "code",
   "execution_count": 4,
   "metadata": {},
   "outputs": [
    {
     "name": "stdout",
     "output_type": "stream",
     "text": [
      "[ 1.  1.] [  3.63797881e-12   2.00000000e+00]\n"
     ]
    }
   ],
   "source": [
    "x1_1 = mysol(a,b1)\n",
    "x1_2 = mysol(a,b2)\n",
    "print(x1_1,x1_2)"
   ]
  },
  {
   "cell_type": "code",
   "execution_count": 5,
   "metadata": {},
   "outputs": [
    {
     "name": "stdout",
     "output_type": "stream",
     "text": [
      "[ 2. -2.] [ -8.08899998  13.12999997]\n"
     ]
    }
   ],
   "source": [
    "a2 = np.asarray([[1.2969,0.8648],[0.2161,0.1441]])\n",
    "b2_1 = np.asarray([0.8642,0.1440])\n",
    "b2_2 = np.asarray([0.8641999,0.1440001])\n",
    "x2_1 = mysol(a2,b2_1)\n",
    "x2_2 = mysol(a2,b2_2)\n",
    "print(x2_1,x2_2)\n"
   ]
  },
  {
   "cell_type": "code",
   "execution_count": 6,
   "metadata": {
    "collapsed": true
   },
   "outputs": [],
   "source": [
    "def bysvd(a,b):\n",
    "    [U,S,V] = np.linalg.svd(a)\n",
    "    return(np.dot(V,(np.dot(U.T,b))/np.diag(S)))"
   ]
  },
  {
   "cell_type": "code",
   "execution_count": 7,
   "metadata": {},
   "outputs": [
    {
     "name": "stdout",
     "output_type": "stream",
     "text": [
      "[[ inf -inf]\n",
      " [-inf -inf]]\n"
     ]
    },
    {
     "name": "stderr",
     "output_type": "stream",
     "text": [
      "/home/jeni/anaconda3/lib/python3.6/site-packages/ipykernel_launcher.py:3: RuntimeWarning: divide by zero encountered in true_divide\n",
      "  This is separate from the ipykernel package so we can avoid doing imports until\n"
     ]
    }
   ],
   "source": [
    "xn1 = bysvd(a,b2)\n",
    "print(xn1)"
   ]
  },
  {
   "cell_type": "code",
   "execution_count": 9,
   "metadata": {},
   "outputs": [
    {
     "name": "stdout",
     "output_type": "stream",
     "text": [
      "[[-0.7070891  -0.70712446]\n",
      " [-0.70712446  0.7070891 ]]\n"
     ]
    }
   ],
   "source": [
    "[U,S,V] = np.linalg.svd(a)\n",
    "tmp = np.dot(U.T)"
   ]
  },
  {
   "cell_type": "code",
   "execution_count": 11,
   "metadata": {},
   "outputs": [
    {
     "name": "stdout",
     "output_type": "stream",
     "text": [
      "[  2.00005000e+00   4.99987500e-05]\n"
     ]
    }
   ],
   "source": [
    "print(S)"
   ]
  },
  {
   "cell_type": "code",
   "execution_count": 12,
   "metadata": {},
   "outputs": [
    {
     "name": "stdout",
     "output_type": "stream",
     "text": [
      "[[-0.7070891  -0.70712446]\n",
      " [-0.70712446  0.7070891 ]]\n"
     ]
    }
   ],
   "source": [
    "print(V)"
   ]
  },
  {
   "cell_type": "code",
   "execution_count": null,
   "metadata": {
    "collapsed": true
   },
   "outputs": [],
   "source": []
  }
 ],
 "metadata": {
  "kernelspec": {
   "display_name": "Python 3",
   "language": "python",
   "name": "python3"
  },
  "language_info": {
   "codemirror_mode": {
    "name": "ipython",
    "version": 3
   },
   "file_extension": ".py",
   "mimetype": "text/x-python",
   "name": "python",
   "nbconvert_exporter": "python",
   "pygments_lexer": "ipython3",
   "version": "3.6.1"
  }
 },
 "nbformat": 4,
 "nbformat_minor": 2
}
